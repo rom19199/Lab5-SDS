{
 "cells": [
  {
   "cell_type": "code",
   "execution_count": 1,
   "metadata": {},
   "outputs": [],
   "source": [
    "import pandas as pd\n",
    "import warnings\n",
    "warnings.filterwarnings(\"ignore\")\n",
    "\n",
    "\n",
    "\n",
    "dfTest=pd.read_csv(\"Test_data.csv\")\n",
    "dfTrain=pd.read_csv(\"Train_data.csv\")"
   ]
  },
  {
   "cell_type": "code",
   "execution_count": 2,
   "metadata": {},
   "outputs": [
    {
     "name": "stdout",
     "output_type": "stream",
     "text": [
      "Métricas sin PCA:\n",
      "Accuracy: 0.9541521117815179, Precision: 0.9542597725502656, Recall: 0.9541521117815179\n",
      "Métricas con PCA:\n",
      "Accuracy: 0.9500238170847888, Precision: 0.9501761838124776, Recall: 0.9500238170847888\n"
     ]
    }
   ],
   "source": [
    "from sklearn.preprocessing import StandardScaler, LabelEncoder\n",
    "from sklearn.model_selection import train_test_split\n",
    "from sklearn.decomposition import PCA\n",
    "from sklearn.pipeline import Pipeline\n",
    "from sklearn.linear_model import LogisticRegression\n",
    "from sklearn.metrics import accuracy_score, precision_score, recall_score, classification_report\n",
    "\n",
    "# Codificar variables categóricas\n",
    "le = LabelEncoder()\n",
    "dfTrain['protocol_type'] = le.fit_transform(dfTrain['protocol_type'])\n",
    "dfTrain['service'] = le.fit_transform(dfTrain['service'])\n",
    "dfTrain['flag'] = le.fit_transform(dfTrain['flag'])\n",
    "\n",
    "dfTest['protocol_type'] = le.fit_transform(dfTest['protocol_type'])\n",
    "dfTest['service'] = le.fit_transform(dfTest['service'])\n",
    "dfTest['flag'] = le.fit_transform(dfTest['flag'])\n",
    "\n",
    "# Normalizar variables numéricas\n",
    "scaler = StandardScaler()\n",
    "X_train = scaler.fit_transform(dfTrain.drop('class', axis=1))\n",
    "y_train = dfTrain['class']\n",
    "X_test = scaler.transform(dfTest)\n",
    "\n",
    "# Modelo sin reducción de dimensionalidad\n",
    "clf_no_pca = LogisticRegression()\n",
    "clf_no_pca.fit(X_train, y_train)\n",
    "y_pred_no_pca = clf_no_pca.predict(X_test)\n",
    "\n",
    "# Modelo con PCA\n",
    "pca = PCA(n_components=10)\n",
    "clf_pca = Pipeline([('pca', pca), ('classifier', LogisticRegression())])\n",
    "clf_pca.fit(X_train, y_train)\n",
    "y_pred_pca = clf_pca.predict(X_test)\n",
    "\n",
    "# Métricas\n",
    "accuracy_no_pca = accuracy_score(y_train, clf_no_pca.predict(X_train))\n",
    "precision_no_pca = precision_score(y_train, clf_no_pca.predict(X_train), average='weighted')\n",
    "recall_no_pca = recall_score(y_train, clf_no_pca.predict(X_train), average='weighted')\n",
    "\n",
    "accuracy_pca = accuracy_score(y_train, clf_pca.predict(X_train))\n",
    "precision_pca = precision_score(y_train, clf_pca.predict(X_train), average='weighted')\n",
    "recall_pca = recall_score(y_train, clf_pca.predict(X_train), average='weighted')\n",
    "\n",
    "print(\"Métricas sin PCA:\")\n",
    "print(f\"Accuracy: {accuracy_no_pca}, Precision: {precision_no_pca}, Recall: {recall_no_pca}\")\n",
    "\n",
    "print(\"Métricas con PCA:\")\n",
    "print(f\"Accuracy: {accuracy_pca}, Precision: {precision_pca}, Recall: {recall_pca}\")\n"
   ]
  },
  {
   "attachments": {},
   "cell_type": "markdown",
   "metadata": {},
   "source": [
    "El modelo sin PCA tiene una precisión ligeramente mayor que el modelo con PCA. La precisión es la proporción de predicciones correctas entre el número total de predicciones realizadas. En este caso, el modelo sin PCA predijo correctamente el 95.41% de los casos, mientras que el modelo con PCA predijo correctamente el 95.00% de los casos.\n",
    "\n",
    "La precisión también es ligeramente mayor en el modelo sin PCA que en el modelo con PCA. La precisión es una medida de cuán precisas son las predicciones positivas del modelo. En otras palabras, de todos los casos que el modelo predijo como positivos, ¿cuántos realmente lo fueron? En este caso, la precisión ponderada del modelo sin PCA es del 95.42%, mientras que la precisión ponderada del modelo con PCA es del 95.01%.\n",
    "\n",
    "El recall es igualmente un poco más alto en el modelo sin PCA en comparación con el modelo con PCA. El recall es una medida de la capacidad del modelo para encontrar todos los casos positivos en el conjunto de datos. En otras palabras, de todos los casos positivos en el conjunto de datos, ¿cuántos fueron identificados correctamente por el modelo? En este caso, el recall ponderado del modelo sin PCA es del 95.41%, mientras que el recall ponderado del modelo con PCA es del 95.00%.\n"
   ]
  },
  {
   "cell_type": "code",
   "execution_count": 4,
   "metadata": {},
   "outputs": [
    {
     "name": "stdout",
     "output_type": "stream",
     "text": [
      "Mean accuracy sin PCA: 0.9539535174665005\n",
      "Mean accuracy con PCA: 0.9362099010016433\n"
     ]
    }
   ],
   "source": [
    "from sklearn.model_selection import cross_val_score\n",
    "\n",
    "# Validación cruzada para el modelo sin PCA\n",
    "cv_scores_no_pca = cross_val_score(clf_no_pca, X_train, y_train, cv=5, scoring='accuracy')\n",
    "mean_accuracy_no_pca = cv_scores_no_pca.mean()\n",
    "\n",
    "# Validación cruzada para el modelo con PCA\n",
    "cv_scores_pca = cross_val_score(clf_pca, X_train, y_train, cv=5, scoring='accuracy')\n",
    "mean_accuracy_pca = cv_scores_pca.mean()\n",
    "\n",
    "print(f\"Mean accuracy sin PCA: {mean_accuracy_no_pca}\")\n",
    "print(f\"Mean accuracy con PCA: {mean_accuracy_pca}\")\n"
   ]
  },
  {
   "attachments": {},
   "cell_type": "markdown",
   "metadata": {},
   "source": [
    "La precisión promedio del modelo sin PCA es aproximadamente del 95.40%, mientras que la precisión promedio del modelo con PCA es aproximadamente del 93.62%. La diferencia en la precisión promedio entre los dos modelos es de aproximadamente el 1.78%.\n",
    "\n",
    "Esto sugiere que el modelo sin PCA tiene un rendimiento ligeramente mejor que el modelo con PCA en términos de precisión promedio. La reducción de dimensionalidad mediante PCA parece haber afectado el rendimiento del modelo en este caso, ya que el modelo con PCA tiene una precisión promedio más baja en comparación con el modelo sin PCA.\n",
    "\n",
    "Sin embargo, es importante tener en cuenta que la diferencia en la precisión promedio no es muy grande. El modelo con PCA puede seguir siendo útil en situaciones en las que se desee reducir el tiempo de entrenamiento o la complejidad del modelo, especialmente si la disminución en el rendimiento es aceptable para el caso de uso específico."
   ]
  }
 ],
 "metadata": {
  "kernelspec": {
   "display_name": "Python 3",
   "language": "python",
   "name": "python3"
  },
  "language_info": {
   "codemirror_mode": {
    "name": "ipython",
    "version": 3
   },
   "file_extension": ".py",
   "mimetype": "text/x-python",
   "name": "python",
   "nbconvert_exporter": "python",
   "pygments_lexer": "ipython3",
   "version": "3.10.1"
  },
  "orig_nbformat": 4
 },
 "nbformat": 4,
 "nbformat_minor": 2
}
